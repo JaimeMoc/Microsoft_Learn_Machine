{
 "cells": [
  {
   "cell_type": "markdown",
   "id": "847c57a5-5779-46ae-8eab-c5b56939ae5c",
   "metadata": {},
   "source": [
    "## Visualización de entradas y salidas."
   ]
  },
  {
   "cell_type": "code",
   "execution_count": null,
   "id": "90adae07-78d9-4de8-a481-5a60df70ca6e",
   "metadata": {},
   "outputs": [],
   "source": [
    "Jaime Alberto Suarez Moctezuma. \n",
    "Ejercicio 2."
   ]
  },
  {
   "cell_type": "code",
   "execution_count": 43,
   "id": "5ce69858",
   "metadata": {},
   "outputs": [
    {
     "data": {
      "text/html": [
       "<div>\n",
       "<style scoped>\n",
       "    .dataframe tbody tr th:only-of-type {\n",
       "        vertical-align: middle;\n",
       "    }\n",
       "\n",
       "    .dataframe tbody tr th {\n",
       "        vertical-align: top;\n",
       "    }\n",
       "\n",
       "    .dataframe thead th {\n",
       "        text-align: right;\n",
       "    }\n",
       "</style>\n",
       "<table border=\"1\" class=\"dataframe\">\n",
       "  <thead>\n",
       "    <tr style=\"text-align: right;\">\n",
       "      <th></th>\n",
       "      <th>boot_size</th>\n",
       "      <th>harness_size</th>\n",
       "      <th>sex</th>\n",
       "      <th>age_years</th>\n",
       "    </tr>\n",
       "  </thead>\n",
       "  <tbody>\n",
       "    <tr>\n",
       "      <th>0</th>\n",
       "      <td>39</td>\n",
       "      <td>58</td>\n",
       "      <td>male</td>\n",
       "      <td>12.0</td>\n",
       "    </tr>\n",
       "    <tr>\n",
       "      <th>1</th>\n",
       "      <td>38</td>\n",
       "      <td>58</td>\n",
       "      <td>male</td>\n",
       "      <td>9.6</td>\n",
       "    </tr>\n",
       "    <tr>\n",
       "      <th>2</th>\n",
       "      <td>37</td>\n",
       "      <td>52</td>\n",
       "      <td>female</td>\n",
       "      <td>8.6</td>\n",
       "    </tr>\n",
       "    <tr>\n",
       "      <th>3</th>\n",
       "      <td>39</td>\n",
       "      <td>58</td>\n",
       "      <td>male</td>\n",
       "      <td>10.2</td>\n",
       "    </tr>\n",
       "    <tr>\n",
       "      <th>4</th>\n",
       "      <td>38</td>\n",
       "      <td>57</td>\n",
       "      <td>male</td>\n",
       "      <td>7.8</td>\n",
       "    </tr>\n",
       "  </tbody>\n",
       "</table>\n",
       "</div>"
      ],
      "text/plain": [
       "   boot_size  harness_size     sex  age_years\n",
       "0         39            58    male       12.0\n",
       "1         38            58    male        9.6\n",
       "2         37            52  female        8.6\n",
       "3         39            58    male       10.2\n",
       "4         38            57    male        7.8"
      ]
     },
     "execution_count": 19,
     "metadata": {},
     "output_type": "execute_result"
    }
   ],
   "source": [
    "# Importar la biblioteca pandas para manipulación de datos y urllib.request para descargas desde la web.\n",
    "import pandas as pd\n",
    "import urllib.request\n",
    "\n",
    "# Descargar archivos desde GitHub utilizando urllib.\n",
    "urllib.request.urlretrieve(\"https://raw.githubusercontent.com/MicrosoftDocs/mslearn-introduction-to-machine-learning/main/graphing.py\")\n",
    "urllib.request.urlretrieve(\"https://raw.githubusercontent.com/MicrosoftDocs/mslearn-introduction-to-machine-learning/main/Data/doggy-boot-harness.csv\")\n",
    "# Especificar la ruta completa al archivo de trabajo en GitHub.\n",
    "Archivo_trabajo = \"https://raw.githubusercontent.com/MicrosoftDocs/mslearn-introduction-to-machine-learning/main/Data/doggy-boot-harness.csv\"\n",
    "\n",
    "# Leer el conjunto de datos desde el archivo de trabajo y almacenarlo en un DataFrame de pandas.\n",
    "dataset = pd.read_csv(Archivo_trabajo)\n",
    "# Se imprime las primeras líneas del Dataset.\n",
    "dataset.head()"
   ]
  },
  {
   "cell_type": "code",
   "execution_count": 44,
   "id": "578557cd-d7ad-407f-ae2e-7a461c443f0b",
   "metadata": {},
   "outputs": [
    {
     "name": "stdout",
     "output_type": "stream",
     "text": [
      "Tamaños de arneses\n",
      "0     58\n",
      "1     58\n",
      "2     52\n",
      "3     58\n",
      "4     57\n",
      "5     52\n",
      "6     55\n",
      "7     53\n",
      "8     49\n",
      "9     54\n",
      "10    59\n",
      "11    56\n",
      "12    53\n",
      "13    58\n",
      "14    57\n",
      "15    58\n",
      "16    56\n",
      "17    51\n",
      "18    50\n",
      "19    59\n",
      "20    59\n",
      "21    59\n",
      "22    55\n",
      "23    50\n",
      "24    55\n",
      "25    52\n",
      "26    53\n",
      "27    54\n",
      "28    61\n",
      "29    56\n",
      "30    55\n",
      "31    60\n",
      "32    57\n",
      "33    56\n",
      "34    61\n",
      "35    58\n",
      "36    53\n",
      "37    57\n",
      "38    57\n",
      "39    55\n",
      "40    60\n",
      "41    51\n",
      "42    52\n",
      "43    56\n",
      "44    55\n",
      "45    57\n",
      "46    58\n",
      "47    57\n",
      "48    51\n",
      "49    59\n",
      "Name: harness_size, dtype: int64\n",
      "\n",
      "Columnas disponibles después de eliminar la información de sexo y edad:\n",
      "['boot_size' 'harness_size']\n"
     ]
    }
   ],
   "source": [
    "# Imprimir mensaje sobre tamaños de arneses.\n",
    "print (\"Tamaños de arneses\")\n",
    "# Imprimir la columna 'harness_size' del conjunto de datos.\n",
    "print (dataset.harness_size)\n",
    "\n",
    "# Eliminar las columnas 'sex' y 'age_years' del conjunto de datos.\n",
    "del dataset[\"sex\"]\n",
    "del dataset[\"age_years\"]\n",
    "\n",
    "# Imprimir mensaje sobre las columnas disponibles después de eliminar la información de sexo y edad.\n",
    "print (\"\\nColumnas disponibles después de eliminar la información de sexo y edad:\")\n",
    "# Imprimir los nombres de las columnas restantes en el conjunto de datos.\n",
    "print (dataset.columns.values)"
   ]
  },
  {
   "cell_type": "code",
   "execution_count": 45,
   "id": "d45837bb-db2f-43f7-88a0-e0f7e48fd010",
   "metadata": {},
   "outputs": [
    {
     "name": "stdout",
     "output_type": "stream",
     "text": [
      "Arriba de la tabla\n",
      "   boot_size  harness_size\n",
      "0         39            58\n",
      "1         38            58\n",
      "2         37            52\n",
      "3         39            58\n",
      "4         38            57\n",
      "\n",
      " Parte inferior de la tabla\n",
      "    boot_size  harness_size\n",
      "45         41            57\n",
      "46         39            58\n",
      "47         39            57\n",
      "48         35            51\n",
      "49         39            59\n"
     ]
    }
   ],
   "source": [
    "# Imprimir mensaje indicando la sección superior de la tabla.\n",
    "print (\"Arriba de la tabla\")\n",
    "# Mostrar las primeras filas del conjunto de datos utilizando head().\n",
    "print (dataset.head())\n",
    "\n",
    "# Imprimir mensaje indicando la parte inferior de la tabla.\n",
    "print (\"\\n Parte inferior de la tabla\")\n",
    "# Mostrar las últimas filas del conjunto de datos utilizando tail().\n",
    "print (dataset.tail())"
   ]
  },
  {
   "cell_type": "code",
   "execution_count": 47,
   "id": "d61f052a-528c-4d9e-a3c7-52fc3caf5152",
   "metadata": {
    "tags": []
   },
   "outputs": [
    {
     "name": "stdout",
     "output_type": "stream",
     "text": [
      "Tenemos 50 filas de datos.\n",
      "\n",
      "¿El arnés del perro es menor que la talla 55?\n",
      "0     False\n",
      "1     False\n",
      "2      True\n",
      "3     False\n",
      "4     False\n",
      "5      True\n",
      "6     False\n",
      "7      True\n",
      "8      True\n",
      "9      True\n",
      "10    False\n",
      "11    False\n",
      "12     True\n",
      "13    False\n",
      "14    False\n",
      "15    False\n",
      "16    False\n",
      "17     True\n",
      "18     True\n",
      "19    False\n",
      "20    False\n",
      "21    False\n",
      "22    False\n",
      "23     True\n",
      "24    False\n",
      "25     True\n",
      "26     True\n",
      "27     True\n",
      "28    False\n",
      "29    False\n",
      "30    False\n",
      "31    False\n",
      "32    False\n",
      "33    False\n",
      "34    False\n",
      "35    False\n",
      "36     True\n",
      "37    False\n",
      "38    False\n",
      "39    False\n",
      "40    False\n",
      "41     True\n",
      "42     True\n",
      "43    False\n",
      "44    False\n",
      "45    False\n",
      "46    False\n",
      "47    False\n",
      "48     True\n",
      "49    False\n",
      "Name: harness_size, dtype: bool\n",
      "\n",
      "Datos para perros con arnés inferior a la talla 55:\n",
      "    boot_size  harness_size\n",
      "2          37            52\n",
      "5          35            52\n",
      "7          36            53\n",
      "8          35            49\n",
      "9          40            54\n",
      "12         38            53\n",
      "17         36            51\n",
      "18         35            50\n",
      "23         35            50\n",
      "25         36            52\n",
      "26         35            53\n",
      "27         39            54\n",
      "36         36            53\n",
      "41         35            51\n",
      "42         36            52\n",
      "48         35            51\n",
      "\n",
      "Número de perros con talla de arnés inferior a 55: 16\n"
     ]
    }
   ],
   "source": [
    "# Imprimir el número total de filas en el conjunto de datos.\n",
    "print(f\"Tenemos {len(dataset)} filas de datos.\")\n",
    "# Crear una condición booleana para perros con arnés menor a la talla 55.\n",
    "pequeño = dataset.harness_size <55\n",
    "# Imprimir mensaje sobre la evaluación del tamaño del arnés.\n",
    "print(\"\\n¿El arnés del perro es menor que la talla 55?\")\n",
    "# Imprimir la serie booleana resultante\n",
    "print(pequeño)\n",
    "\n",
    "# Filtrar el conjunto de datos utilizando la condición booleana.\n",
    "Datos_perros_pequeños = dataset[pequeño]\n",
    "# Imprimir mensaje con los datos para perros con arnés menor a la talla 55.\n",
    "print(\"\\nDatos para perros con arnés inferior a la talla 55:\")\n",
    "# Mostrar el DataFrame resultante después del filtrado.\n",
    "print(Datos_perros_pequeños)\n",
    "\n",
    "# Imprimir el número total de perros con arnés menor a la talla 55.\n",
    "print(f\"\\nNúmero de perros con talla de arnés inferior a 55: {len(Datos_perros_pequeños)}\")"
   ]
  },
  {
   "cell_type": "code",
   "execution_count": 49,
   "id": "56d47800-3a5f-4c93-8d07-d345675994d2",
   "metadata": {},
   "outputs": [
    {
     "name": "stdout",
     "output_type": "stream",
     "text": [
      "Ahora tenemos 34 filas en nuestro conjunto de datos. Las últimas filas son:\n"
     ]
    },
    {
     "data": {
      "text/html": [
       "<div>\n",
       "<style scoped>\n",
       "    .dataframe tbody tr th:only-of-type {\n",
       "        vertical-align: middle;\n",
       "    }\n",
       "\n",
       "    .dataframe tbody tr th {\n",
       "        vertical-align: top;\n",
       "    }\n",
       "\n",
       "    .dataframe thead th {\n",
       "        text-align: right;\n",
       "    }\n",
       "</style>\n",
       "<table border=\"1\" class=\"dataframe\">\n",
       "  <thead>\n",
       "    <tr style=\"text-align: right;\">\n",
       "      <th></th>\n",
       "      <th>boot_size</th>\n",
       "      <th>harness_size</th>\n",
       "    </tr>\n",
       "  </thead>\n",
       "  <tbody>\n",
       "    <tr>\n",
       "      <th>42</th>\n",
       "      <td>36</td>\n",
       "      <td>52</td>\n",
       "    </tr>\n",
       "    <tr>\n",
       "      <th>46</th>\n",
       "      <td>39</td>\n",
       "      <td>58</td>\n",
       "    </tr>\n",
       "    <tr>\n",
       "      <th>47</th>\n",
       "      <td>39</td>\n",
       "      <td>57</td>\n",
       "    </tr>\n",
       "    <tr>\n",
       "      <th>48</th>\n",
       "      <td>35</td>\n",
       "      <td>51</td>\n",
       "    </tr>\n",
       "    <tr>\n",
       "      <th>49</th>\n",
       "      <td>39</td>\n",
       "      <td>59</td>\n",
       "    </tr>\n",
       "  </tbody>\n",
       "</table>\n",
       "</div>"
      ],
      "text/plain": [
       "    boot_size  harness_size\n",
       "42         36            52\n",
       "46         39            58\n",
       "47         39            57\n",
       "48         35            51\n",
       "49         39            59"
      ]
     },
     "execution_count": 49,
     "metadata": {},
     "output_type": "execute_result"
    }
   ],
   "source": [
    "# Filtrar el conjunto de datos para perros con tamaño de bota menor a 40 y crear una copia del resultado.\n",
    "Datos_patas_pequeñas = dataset[dataset.boot_size <40].copy()\n",
    "\n",
    "\n",
    "# Imprimir el número actualizado de filas en el conjunto de datos después del filtrado.\n",
    "print(f\"Ahora tenemos {len(Datos_patas_pequeñas)} filas en nuestro conjunto de datos. Las últimas filas son:\")\n",
    "# Mostrar las últimas filas del DataFrame filtrado.\n",
    "Datos_patas_pequeñas.tail()"
   ]
  },
  {
   "cell_type": "code",
   "execution_count": 50,
   "id": "4dc75a63-e1c8-4498-bc25-1d8bddd42414",
   "metadata": {},
   "outputs": [
    {
     "data": {
      "text/plain": [
       "Text(0, 0.5, 'Tamaño_botas')"
      ]
     },
     "execution_count": 50,
     "metadata": {},
     "output_type": "execute_result"
    },
    {
     "data": {
      "image/png": "[encoded data removed]",
      "text/plain": [
       "<Figure size 640x480 with 1 Axes>"
      ]
     },
     "metadata": {},
     "output_type": "display_data"
    }
   ],
   "source": [
    "# Importar la biblioteca de visualización matplotlib.pyplot.\n",
    "import matplotlib.pyplot as plt\n",
    "\n",
    "# Crear un gráfico de dispersión utilizando los datos de tallas de arnés y botas para perros con patas pequeñas.\n",
    "plt.scatter(Datos_patas_pequeñas[\"harness_size\"], Datos_patas_pequeñas[\"boot_size\"])\n",
    "\n",
    "# Etiquetar el eje x con \"Tamaño_Arnés\"\n",
    "plt.xlabel(\"Tamaño_Arnés\")\n",
    "# Etiquetar el eje y con \"Tamaño_botas\"\n",
    "plt.ylabel(\"Tamaño_botas\")"
   ]
  },
  {
   "cell_type": "code",
   "execution_count": 51,
   "id": "2714fa51-cd1c-49dd-86ae-9e3898eefabf",
   "metadata": {},
   "outputs": [
    {
     "data": {
      "text/plain": [
       "Text(0, 0.5, 'boot_size')"
      ]
     },
     "execution_count": 51,
     "metadata": {},
     "output_type": "execute_result"
    },
    {
     "data": {
      "image/png": "[encoded data removed]",
      "text/plain": [
       "<Figure size 640x480 with 1 Axes>"
      ]
     },
     "metadata": {},
     "output_type": "display_data"
    }
   ],
   "source": [
    "# Agregar una nueva columna al DataFrame con el tamaño del arnés en unidades imperiales\n",
    "Datos_patas_pequeñas[\"arnés_tamaño_imperial\"] = Datos_patas_pequeñas.harness_size / 2.54\n",
    "\n",
    "# Crear un gráfico de dispersión utilizando los datos de tallas de arnés (en unidades imperiales) y botas para perros con patas pequeñas\n",
    "plt.scatter(Datos_patas_pequeñas[\"arnés_tamaño_imperial\"], Datos_patas_pequeñas[\"boot_size\"])\n",
    "\n",
    "# Etiquetar el eje x con \"arnés_tamaño_imperial\"\n",
    "plt.xlabel(\"arnés_tamaño_imperial\")\n",
    "# Etiquetar el eje y con \"boot_size\"\n",
    "plt.ylabel(\"boot_size\")"
   ]
  }
 ],
 "metadata": {
  "kernelspec": {
   "display_name": "Python 3 (ipykernel)",
   "language": "python",
   "name": "python3"
  },
  "language_info": {
   "codemirror_mode": {
    "name": "ipython",
    "version": 3
   },
   "file_extension": ".py",
   "mimetype": "text/x-python",
   "name": "python",
   "nbconvert_exporter": "python",
   "pygments_lexer": "ipython3",
   "version": "3.10.9"
  }
 },
 "nbformat": 4,
 "nbformat_minor": 5
}
