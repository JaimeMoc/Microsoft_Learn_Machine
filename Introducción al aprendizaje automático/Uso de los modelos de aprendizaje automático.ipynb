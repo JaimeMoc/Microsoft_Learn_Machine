{
 "cells": [
  {
   "cell_type": "markdown",
   "id": "53cc9051-e262-407a-ab1f-8e43f506deb2",
   "metadata": {},
   "source": [
    "# Uso de los modelos de aprendizaje automático"
   ]
  },
  {
   "cell_type": "markdown",
   "id": "f439057f-60be-4cfe-8491-2835ccb44d9a",
   "metadata": {},
   "source": [
    "Jaime Alberto Suarez Moctezuma. \n",
    "Ejercicio #3.- "
   ]
  },
  {
   "cell_type": "code",
   "execution_count": 41,
   "id": "23629624-0b82-4c55-9a57-5585a58d6a22",
   "metadata": {},
   "outputs": [
    {
     "name": "stdout",
     "output_type": "stream",
     "text": [
      "Defaulting to user installation because normal site-packages is not writeable\n",
      "Requirement already satisfied: statsmodels in d:\\anaconda\\lib\\site-packages (0.13.5)\n",
      "Requirement already satisfied: numpy>=1.22.3 in d:\\anaconda\\lib\\site-packages (from statsmodels) (1.23.5)\n",
      "Requirement already satisfied: pandas>=0.25 in d:\\anaconda\\lib\\site-packages (from statsmodels) (1.5.3)\n",
      "Requirement already satisfied: patsy>=0.5.2 in d:\\anaconda\\lib\\site-packages (from statsmodels) (0.5.3)\n",
      "Requirement already satisfied: packaging>=21.3 in d:\\anaconda\\lib\\site-packages (from statsmodels) (22.0)\n",
      "Requirement already satisfied: scipy>=1.3 in d:\\anaconda\\lib\\site-packages (from statsmodels) (1.10.0)\n",
      "Requirement already satisfied: python-dateutil>=2.8.1 in d:\\anaconda\\lib\\site-packages (from pandas>=0.25->statsmodels) (2.8.2)\n",
      "Requirement already satisfied: pytz>=2020.1 in d:\\anaconda\\lib\\site-packages (from pandas>=0.25->statsmodels) (2022.7)\n",
      "Requirement already satisfied: six in d:\\anaconda\\lib\\site-packages (from patsy>=0.5.2->statsmodels) (1.16.0)\n"
     ]
    },
    {
     "name": "stderr",
     "output_type": "stream",
     "text": [
      "\"wget\" no se reconoce como un comando interno o externo,\n",
      "programa o archivo por lotes ejecutable.\n"
     ]
    },
    {
     "data": {
      "text/html": [
       "<div>\n",
       "<style scoped>\n",
       "    .dataframe tbody tr th:only-of-type {\n",
       "        vertical-align: middle;\n",
       "    }\n",
       "\n",
       "    .dataframe tbody tr th {\n",
       "        vertical-align: top;\n",
       "    }\n",
       "\n",
       "    .dataframe thead th {\n",
       "        text-align: right;\n",
       "    }\n",
       "</style>\n",
       "<table border=\"1\" class=\"dataframe\">\n",
       "  <thead>\n",
       "    <tr style=\"text-align: right;\">\n",
       "      <th></th>\n",
       "      <th>boot_size</th>\n",
       "      <th>harness_size</th>\n",
       "      <th>sex</th>\n",
       "      <th>age_years</th>\n",
       "    </tr>\n",
       "  </thead>\n",
       "  <tbody>\n",
       "    <tr>\n",
       "      <th>0</th>\n",
       "      <td>39</td>\n",
       "      <td>58</td>\n",
       "      <td>male</td>\n",
       "      <td>12.0</td>\n",
       "    </tr>\n",
       "    <tr>\n",
       "      <th>1</th>\n",
       "      <td>38</td>\n",
       "      <td>58</td>\n",
       "      <td>male</td>\n",
       "      <td>9.6</td>\n",
       "    </tr>\n",
       "    <tr>\n",
       "      <th>2</th>\n",
       "      <td>37</td>\n",
       "      <td>52</td>\n",
       "      <td>female</td>\n",
       "      <td>8.6</td>\n",
       "    </tr>\n",
       "    <tr>\n",
       "      <th>3</th>\n",
       "      <td>39</td>\n",
       "      <td>58</td>\n",
       "      <td>male</td>\n",
       "      <td>10.2</td>\n",
       "    </tr>\n",
       "    <tr>\n",
       "      <th>4</th>\n",
       "      <td>38</td>\n",
       "      <td>57</td>\n",
       "      <td>male</td>\n",
       "      <td>7.8</td>\n",
       "    </tr>\n",
       "  </tbody>\n",
       "</table>\n",
       "</div>"
      ],
      "text/plain": [
       "   boot_size  harness_size     sex  age_years\n",
       "0         39            58    male       12.0\n",
       "1         38            58    male        9.6\n",
       "2         37            52  female        8.6\n",
       "3         39            58    male       10.2\n",
       "4         38            57    male        7.8"
      ]
     },
     "execution_count": 41,
     "metadata": {},
     "output_type": "execute_result"
    }
   ],
   "source": [
    "#Importamos las bibliotecas necesarias. \n",
    "import pandas as pd\n",
    "import requests\n",
    "\n",
    "#Instalamos la biblioteca statsmodels.\n",
    "!pip install statsmodels\n",
    "#Descargamos el script graphing.py desde el respositorio de Github.\n",
    "!wget https://raw.githubusercontent.com/MicrosoftDocs/mslearn-introduction-to-machine-learning/main/graphing.py\n",
    "#Especificamos la URL del conjunto de datos doggy-boot-harness.csv\n",
    "url = 'https://raw.githubusercontent.com/MicrosoftDocs/mslearn-introduction-to-machine-learning/main/Data/doggy-boot-harness.csv'\n",
    "\n",
    "#Obtenemos los datos del conjunto de datos a trabes de la URL. \n",
    "respuesta = requests.get(url)\n",
    "# Guardar los datos descargados en un archivo local llamado doggy-boot-harness.csv\n",
    "with open('doggy-boot-harness.csv', 'wb') as f:\n",
    "    f.write(respuesta.content)\n",
    "\n",
    "#Leemos los datos del archivo CSV recien creado usando pandas. \n",
    "datos = pd.read_csv('doggy-boot-harness.csv')\n",
    "#Mostramos las primeras filas del Dataframe. \n",
    "datos.head()"
   ]
  },
  {
   "cell_type": "code",
   "execution_count": 47,
   "id": "965d6350-f50f-4b2b-93b9-0835f3a47a45",
   "metadata": {},
   "outputs": [
    {
     "name": "stdout",
     "output_type": "stream",
     "text": [
      "Modelo entrenado\n"
     ]
    }
   ],
   "source": [
    "# Importar la biblioteca statsmodels para ajuste de modelo.\n",
    "import statsmodels.formula.api as smf\n",
    "\n",
    "# Crear un modelo de regresión lineal ordinaria (OLS).\n",
    "# La fórmula \"boot_size ~ harness_size\" especifica que estamos modelando boot_size en función de harness_size.\n",
    "# 'data=datos' indica que los datos provienen del DataFrame llamado 'datos'.\n",
    "modelo = smf.ols(formula=\"boot_size ~ harness_size\", data=datos).fit()\n",
    "\n",
    "# Imprimir un mensaje indicando que el modelo ha sido entrenado con éxito.\n",
    "print(\"Modelo entrenado\")"
   ]
  },
  {
   "cell_type": "code",
   "execution_count": 48,
   "id": "d3caf904-d3d1-464b-85da-b046a44310eb",
   "metadata": {},
   "outputs": [
    {
     "name": "stdout",
     "output_type": "stream",
     "text": [
      "Modelo Guardado\n"
     ]
    }
   ],
   "source": [
    "# Importar la biblioteca joblib\n",
    "import joblib\n",
    "\n",
    "# Definir el nombre del archivo donde se guardará el modelo\n",
    "nombre_archivo_modelo = './avalanche_dog_boot_model.pkl'\n",
    "# Utilizar joblib para guardar el modelo en el archivo especificado\n",
    "joblib.dump(modelo, nombre_archivo_modelo)\n",
    "\n",
    "# Imprimir un mensaje indicando que el modelo ha sido guardado con éxito\n",
    "print(\"Modelo Guardado\")"
   ]
  },
  {
   "cell_type": "code",
   "execution_count": 49,
   "id": "cc4e8750-4aac-40a6-8e34-1c52075926ea",
   "metadata": {},
   "outputs": [
    {
     "name": "stdout",
     "output_type": "stream",
     "text": [
      "Hemos cargado un modelo con los siguientes parámetros:\n",
      "Intercept       5.719110\n",
      "harness_size    0.585925\n",
      "dtype: float64\n"
     ]
    }
   ],
   "source": [
    "# Cargar el modelo desde el archivo y mostrar sus parámetros\n",
    "modelo_cargado = joblib.load(nombre_archivo_modelo)\n",
    "\n",
    "# Imprimimos el siguiente mensaje.\n",
    "print (\"Hemos cargado un modelo con los siguientes parámetros:\")\n",
    "print (modelo_cargado.params)"
   ]
  },
  {
   "cell_type": "code",
   "execution_count": 50,
   "id": "4af44a42-d239-4bfe-a5fd-38b0eb492a05",
   "metadata": {},
   "outputs": [
    {
     "name": "stdout",
     "output_type": "stream",
     "text": [
      "Hemos cargado un modelo con los siguientes parámetros:\n",
      "Intercept       5.719110\n",
      "harness_size    0.585925\n",
      "dtype: float64\n",
      "Tamaño previsto de la bota para perros: 32.08575356590478\n"
     ]
    }
   ],
   "source": [
    "def modelo_cargado_para_predecir(harness_size):\n",
    "    '''\n",
    "    Esta función carga un modelo previamente entrenado. Utiliza el modelo\n",
    "    con el tamaño del arnés del perro del cliente para predecir el tamaño de\n",
    "    botas que le queden bien a ese perro.\n",
    "\n",
    "    Harness_size: El tamaño del arnés del perro, en cm.\n",
    "    '''\n",
    "    \n",
    "    # Cargar el modelo previamente guardado\n",
    "    Carga_modelo = joblib.load(nombre_archivo_modelo)\n",
    "    \n",
    "    # Imprimir los parámetros del modelo cargado\n",
    "    print(\"Hemos cargado un modelo con los siguientes parámetros:\")\n",
    "    print(Carga_modelo.params)\n",
    "    \n",
    "    # Predecir el tamaño de las botas para el arnés proporcionado\n",
    "    inputs = {\"harness_size\":[harness_size]}\n",
    "    predicción_tamaño_botas = Carga_modelo.predict(inputs)[0]\n",
    "    \n",
    "    return predicción_tamaño_botas\n",
    "\n",
    "# Uso de la función.\n",
    "predicción_tamaño_botas = modelo_cargado_para_predecir(45)\n",
    "print(\"Tamaño previsto de la bota para perros:\", predicción_tamaño_botas)"
   ]
  },
  {
   "cell_type": "code",
   "execution_count": 51,
   "id": "082831a8-0a40-4312-a2ee-384099a59208",
   "metadata": {},
   "outputs": [
    {
     "name": "stdout",
     "output_type": "stream",
     "text": [
      "Hemos cargado un modelo con los siguientes parámetros:\n",
      "Intercept       5.719110\n",
      "harness_size    0.585925\n",
      "dtype: float64\n"
     ]
    },
    {
     "data": {
      "text/plain": [
       "'Las botas que has seleccionado pueden ser DEMASIADO GRANDES para un perro como pequeñas como las tuyas. Recomendamos una talla de botas para perros de 38.'"
      ]
     },
     "execution_count": 51,
     "metadata": {},
     "output_type": "execute_result"
    }
   ],
   "source": [
    "def comprobar_tamaño_de_botas(tamaño_seleccionado_arnés , tamaño_seleccionado_botas): \n",
    "    '''\n",
    "    Calcula si el cliente ha elegido un par de botas para perros que\n",
    "    son de un tamaño razonable. Esto funciona estimando la bota real del perro.\n",
    "    tamaño del tamaño de su arnés.\n",
    "\n",
    "    Esto devuelve un mensaje para el cliente que debe mostrarse antes\n",
    "    completan su pago\n",
    "\n",
    "    selected_harness_size: El tamaño del arnés que el cliente quiere comprar\n",
    "    selected_boot_size: El tamaño de las botas para perros que el cliente quiere comprar.\n",
    "    '''\n",
    "    \n",
    "    # Estimar el tamaño de las botas según el arnés seleccionado\n",
    "    tamaño_arranque_estimado = modelo_cargado_para_predecir(tamaño_seleccionado_arnés)\n",
    "    tamaño_arranque_estimado = int(round(tamaño_arranque_estimado))\n",
    "    \n",
    "    # Comprobar si el tamaño seleccionado es igual al estimado\n",
    "    if tamaño_seleccionado_botas == tamaño_arranque_estimado:\n",
    "        return f\"¡Gran elección! Creemos que estas botas le quedarán bien a su perro de avalanchas.\"\n",
    "    \n",
    "    # Comprobar si el tamaño seleccionado es menor al estimado\n",
    "    if tamaño_seleccionado_botas < tamaño_arranque_estimado:\n",
    "        return \"El modelo seleccionado pueden ser DEMASIADO PEQUEÑO para un perro como\"\\\n",
    "               f\"tan grande como el tuyo. Recomendamos una talla de botas para perros de {tamaño_arranque_estimado}.\"\n",
    "    \n",
    "    # Comprobar si el tamaño seleccionado es mayor al estimado\n",
    "    if tamaño_seleccionado_botas > tamaño_arranque_estimado: \n",
    "            return \"Las botas que has seleccionado pueden ser DEMASIADO GRANDES para un perro como \"\\\n",
    "                   f\"pequeñas como las tuyas. Recomendamos una talla de botas para perros de {tamaño_arranque_estimado}.\"\n",
    "    \n",
    "# Ejemplo de uso de la función.     \n",
    "comprobar_tamaño_de_botas(tamaño_seleccionado_arnés=55, tamaño_seleccionado_botas=39)"
   ]
  }
 ],
 "metadata": {
  "kernelspec": {
   "display_name": "Python 3 (ipykernel)",
   "language": "python",
   "name": "python3"
  },
  "language_info": {
   "codemirror_mode": {
    "name": "ipython",
    "version": 3
   },
   "file_extension": ".py",
   "mimetype": "text/x-python",
   "name": "python",
   "nbconvert_exporter": "python",
   "pygments_lexer": "ipython3",
   "version": "3.10.9"
  }
 },
 "nbformat": 4,
 "nbformat_minor": 5
}
